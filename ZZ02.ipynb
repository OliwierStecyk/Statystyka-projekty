{
 "cells": [
  {
   "cell_type": "markdown",
   "id": "debc9168",
   "metadata": {
    "deletable": false,
    "editable": false,
    "nbgrader": {
     "cell_type": "markdown",
     "checksum": "ff0bc2c9546dc7416a62ab1f8e86fe5a",
     "grade": false,
     "grade_id": "cell-fcd2666579131b77",
     "locked": true,
     "schema_version": 3,
     "solution": false,
     "task": false
    },
    "tags": []
   },
   "source": [
    "# Statystyka matematyczna - ćwiczenia laboratoryjne 2023/2024\n",
    "\n",
    "Ten notatnik zalicza się do grupy zestawów zadań, na podstawie których odbywa się zaliczenie ćwiczeń i podlega zwrotowi do oceny w ustalonym na zajęciach terminie.\n",
    "\n",
    "Uwagi i wytyczne ogólne dotyczące uzupełniania notatnika:\n",
    "- Podczas wykonywania zadań należy korzystać wyłącznie z pakietów zaimportowanych na początku notatnika oraz z pakietów wchodzących w skład standardowej biblioteki Pythona, które można zaimportować samodzielnie we wskazanej komórce notatnika.\n",
    "- Swoje rozwiązania należy wprowadzać wyłącznie w miejce następujących fragmentów kodu:<br/> `# YOUR CODE HERE`<br/> `raise NotImplementedError()`<br/> \n",
    "a odpowiedzi tekstowe w komórkach oznaczonych hasłem:<br/> \n",
    "`YOUR ANSWER HERE`<br/> \n",
    "Nie należy w żaden sposób modyfikować pozostałych fragmentów kodu oraz innych elementów notatnika, w szczególności dodawać lub usuwać komórek oraz zmieniać nazwy pliku.\n",
    "- Otrzymywane wyniki i odpowiedzi mają być rezultatem wykonania napisanego kodu.\n",
    "- Zadanie należy wykonać w taki sposób, aby podczas wykonywania kodu nie zostały wyświetlone żadne ostrzeżenia.\n",
    "- Zawarte w notatniku automatyczne testy mają charakter poglądowy. Dotyczą one wybranych aspektów zadań i mają za zadanie wyłapać podstawowe błędy. Przejście wszystkich testów nie oznacza, że zadanie jest wykonane w całości poprawnie.\n",
    "\n",
    "Uwagi i wytyczne ogólne dotyczące wizualizacji wyników:\n",
    "- Wszystkie wykresy powinny być wykonane w jednolitym, przejrzystym i czytelnym stylu, posiadać odpowiednio dobrane proporcje i zakresy wartości osi.\n",
    "- Wykresy oraz ich osie powinny mieć nadane tytuły. Jeżeli w obrębie figury znajduje się więcej niż jeden wykres to figura również powinna mieć nadany tytuł. \n",
    "- Figury powinny mieć ustawione białe tło, tak, aby niezależnie od ustawień notatnika wszystkie elementy wykresów były dobrze widoczne (domyślnie tło jest przeźroczyste co może powodować problemy w notatnikach z ustawionym ciemnym tłem).\n",
    "- Rozmiar poziomy figur nie powinien przekraczać 20 cali.\n",
    "\n",
    "Przed odesłaniem zestawu zadań do oceny proszę uzupełnić komórkę z danymi autorów rozwiązania (nazwa zespołu oraz imiona, nazwiska i numery indeksów członków zespołu) oraz upewnić się, że notatnik działa zgodnie z oczekiwaniami. W tym celu należy skorzystać z opcji **Restart Kernel and Run All Cells...** dostępnej na górnej belce notatnika pod symbolem $\\blacktriangleright\\blacktriangleright$."
   ]
  },
  {
   "cell_type": "markdown",
   "id": "304e8bef",
   "metadata": {},
   "source": [
    "Nazwa zespołu:\n",
    "Członkowie:"
   ]
  },
  {
   "cell_type": "markdown",
   "id": "74b6d185",
   "metadata": {
    "deletable": false,
    "editable": false,
    "nbgrader": {
     "cell_type": "markdown",
     "checksum": "eddc8826810e4a6f7bf68319da334bd9",
     "grade": false,
     "grade_id": "cell-109006d425e5cf83",
     "locked": true,
     "schema_version": 3,
     "solution": false,
     "task": false
    },
    "tags": []
   },
   "source": [
    "---"
   ]
  },
  {
   "cell_type": "markdown",
   "id": "7d16ced0-129a-4205-9a6c-32f1601ac7e8",
   "metadata": {
    "deletable": false,
    "editable": false,
    "nbgrader": {
     "cell_type": "markdown",
     "checksum": "77c87567cfc61a00f5a10655db89ac17",
     "grade": false,
     "grade_id": "cell-98dd0f32ad723091",
     "locked": true,
     "schema_version": 3,
     "solution": false,
     "task": false
    },
    "tags": []
   },
   "source": [
    "# Zestaw zadań 2: Rozkłady zmiennych losowych ciągłych"
   ]
  },
  {
   "cell_type": "code",
   "execution_count": 2,
   "id": "c445b90f-2434-42d6-9391-a978934a9f83",
   "metadata": {
    "deletable": false,
    "editable": false,
    "nbgrader": {
     "cell_type": "code",
     "checksum": "4605a861260f9af9f7f0874fbf592513",
     "grade": false,
     "grade_id": "cell-c2fe1e8e996e728d",
     "locked": true,
     "schema_version": 3,
     "solution": false,
     "task": false
    },
    "tags": []
   },
   "outputs": [],
   "source": [
    "import numpy as np\n",
    "import pandas as pd\n",
    "import scipy as sp\n",
    "import matplotlib as mpl\n",
    "import matplotlib.pyplot as plt\n",
    "import seaborn as sns"
   ]
  },
  {
   "cell_type": "code",
   "execution_count": 3,
   "id": "dadd29b0-107c-48d8-9acf-644add300bb8",
   "metadata": {},
   "outputs": [],
   "source": [
    "import numpy as np\n",
    "import pandas as pd\n",
    "import scipy as sp\n",
    "import matplotlib as mpl\n",
    "import matplotlib.pyplot as plt\n",
    "import seaborn as sns"
   ]
  },
  {
   "cell_type": "markdown",
   "id": "f38b63dc-9034-42aa-bb04-e85d386cacea",
   "metadata": {
    "deletable": false,
    "editable": false,
    "nbgrader": {
     "cell_type": "markdown",
     "checksum": "7dcbe42dbb24111db9bdc86285f74f8e",
     "grade": false,
     "grade_id": "cell-33cde23df89055cc",
     "locked": true,
     "schema_version": 3,
     "solution": false,
     "task": false
    },
    "tags": []
   },
   "source": [
    "### Funkcje do wykorzystania"
   ]
  },
  {
   "cell_type": "code",
   "execution_count": 7,
   "id": "c1a4b692-f0ad-4f70-a2a4-595d29719693",
   "metadata": {
    "deletable": false,
    "editable": false,
    "nbgrader": {
     "cell_type": "code",
     "checksum": "949716cb968f38151fdd86705d365d4a",
     "grade": false,
     "grade_id": "cell-02430bb84d8e1fb2",
     "locked": true,
     "schema_version": 3,
     "solution": false,
     "task": false
    },
    "tags": []
   },
   "outputs": [],
   "source": [
    "def vizualize_continuous_distribution(pdf, cdf, interval=None):\n",
    "    \"\"\"\n",
    "    Parameters\n",
    "    -------\n",
    "    pdf: pandas.DataFrame\n",
    "        Tablica zawierająca index z wariantami zmiennej losowej i nadaną nazwą zmiennej (np. x) oraz pojedynczą kolumnę\n",
    "        z wartościami gęstościami prawdopodobieństwa wyliczonymi dla poszczególnych wariantów o nadanej nazwie bazującej na nazwie zmiennej (np. f(x)).\n",
    "    cdf: pandas.DataFrame\n",
    "        Tablica zawierająca index z wariantami zmiennej losowej i nadaną nazwą zmiennej (np. x) oraz pojedynczą kolumnę\n",
    "        z wartościami dystrubuanty wyliczonymi poszczególnych wariantów o nadanej nazwie bazującej na nazwie zmiennej (np. F(x)).\n",
    "    interval: list\n",
    "        Lista zawierająca trzy elementy w następującej kolejności:\n",
    "         - wartość dolnej granicy przedziału,\n",
    "         - wartość górnej granicy przedziału,\n",
    "         - \"inner\" lub \"outer\" w zależności od tego, czy ma być zakolorowana wewnętrzna, czy zewnętrzna część przedziału.\n",
    "    \"\"\"\n",
    "    pdf_name= pdf.columns[0]\n",
    "    cdf_name = cdf.columns[0]    \n",
    "    \n",
    "    fig, axes = plt.subplots(1, 2, figsize=(10, 5), facecolor='white')\n",
    "\n",
    "    fig.suptitle(\"Rozkład prawdopodobieństwa i dystrybuanta zmiennej losowej\")\n",
    "\n",
    "    axes[0].plot(pdf.index, pdf[pdf_name], color=\"grey\")\n",
    "    axes[0].set_title(\"Gęstość prawdopodobieństwa\")\n",
    "    axes[0].set_xlabel(pdf.index.name)\n",
    "    axes[0].set_ylabel(pdf_name)\n",
    "    \n",
    "    if interval is not None:\n",
    "        if interval[2]==\"inner\":\n",
    "            axes[0].fill_between(pdf.index, pdf[pdf_name], 0, where=((pdf.index > interval[0]) & (pdf.index<interval[1])), color='green', alpha=0.5)\n",
    "        elif interval[2]==\"outer\":\n",
    "            axes[0].fill_between(pdf.index, pdf[pdf_name], 0, where=((pdf.index < interval[0]) | (pdf.index>interval[1])), color='green', alpha=0.5)\n",
    "    \n",
    "    axes[1].plot(cdf.index, cdf[cdf_name], color=\"grey\")\n",
    "    axes[1].set_title(\"Dystrybuanta\")\n",
    "    axes[1].set_xlabel(cdf.index.name)\n",
    "    axes[1].set_ylabel(cdf_name)"
   ]
  },
  {
   "cell_type": "markdown",
   "id": "24c54cf5-9c0c-42ef-a3db-c19549d8e8b8",
   "metadata": {
    "deletable": false,
    "editable": false,
    "nbgrader": {
     "cell_type": "markdown",
     "checksum": "cce2ca2671722f0effe9821058b29d34",
     "grade": false,
     "grade_id": "cell-19dfd8d8c97a627c",
     "locked": true,
     "schema_version": 3,
     "solution": false,
     "task": false
    },
    "tags": []
   },
   "source": [
    "### Zadanie 1: Przykładowy ciągły rozkład prawdopodobieństwa  [10 pkt]\n",
    "\n",
    "Zmienna losowa X ma funkcję gęstości prawdopodobieństwa daną wzorem:\n",
    "\n",
    "$$f(x) = \\begin{cases}\n",
    "    0\\text{ dla }x<-1\\\\\n",
    "    0.75 \\cdot (1-x^2)\\text{ dla }|x|<=1\\\\\n",
    "    0\\text{ dla }x>1\n",
    "    \\end{cases}$$\n",
    "\n",
    "#### a) Tablica wybranych wartości funkcji gęstości prawdopodobieństwa\n",
    "\n",
    "Przygotuj dane niezbędne do przedstawienia funkcji gęstości prawdopodobieństwa zmiennej losowej X w formie tablicy `r1p` o następującej strukturze:\n",
    "\n",
    "> Indeks:</br>\n",
    "> x - 101 wartości zmiennej losowej równo rozłożonych pomiędzy wartościami -2 a 2, tak aby dwie wartości wypadały na granicach określonych we wzorze przedziałów. </br>\n",
    "\n",
    "> Kolumny: </br>\n",
    "> f(x) - gęstość prawdopodobieństwa wyliczona dla poszczególnych wartości x.\n",
    "\n",
    "Uwagi do wykonania zadania:\n",
    " - Warianty przyjmowane przez zmienną z wygeneruj za pomocą funkcji `numpy.linspace()` lub `numpy.arange()`."
   ]
  },
  {
   "cell_type": "code",
   "execution_count": 10,
   "id": "5111c760-5f0e-4355-90c2-d6bff19529f6",
   "metadata": {
    "deletable": false,
    "nbgrader": {
     "cell_type": "code",
     "checksum": "8c5ad95d2e64476860ad07ad4a328cbb",
     "grade": false,
     "grade_id": "cell-a9ebbffdc209fdc5",
     "locked": false,
     "schema_version": 3,
     "solution": true,
     "task": false
    },
    "tags": []
   },
   "outputs": [
    {
     "data": {
      "text/plain": [
       "0.84375"
      ]
     },
     "execution_count": 10,
     "metadata": {},
     "output_type": "execute_result"
    }
   ],
   "source": [
    "r_variants = np.linspace(-2, 2, 101)\n",
    "r_pdf = np.zeros_like(r_variants)\n",
    "mask_1 = np.all([r_variants>=-1, r_variants<=1], axis=0)\n",
    "r_pdf[mask_1] = 0.75*(1 -r_variants[mask_1]**2)\n",
    "r1p = pd.DataFrame(data=r_pdf, index=r_variants, columns=[\"f(x)\"])\n",
    "r1p.index.name = 'x'\n",
    "\n",
    "# Obliczenie prawdopodobieństwa, że średnica będzie między 99 a 101 mm\n",
    "## probability_99_to_101, _ = sp.integrate.quad(lambda x: 0.75 * (1 - (x - 100) ** 2), 99, 101)\n",
    "\n",
    "# Obliczenie prawdopodobieństwa, że średnica będzie między 99.25 a 101 mm\n",
    "probability_99_25_to_101, _ = sp.integrate.quad(lambda x: 0.75 * (1 - (x - 100) ** 2), 99.5, 101)\n",
    "\n",
    "# Obliczenie ostatecznego prawdopodobieństwa\n",
    "probability_99_25_to_101"
   ]
  },
  {
   "cell_type": "code",
   "execution_count": 9,
   "id": "797e4592-00e2-4db0-a044-f2be83c1b853",
   "metadata": {
    "deletable": false,
    "editable": false,
    "nbgrader": {
     "cell_type": "code",
     "checksum": "fbe2ae522db40e7e1e2ca247f63c86e1",
     "grade": true,
     "grade_id": "cell-faf98a9d8c9da9db",
     "locked": true,
     "points": 2,
     "schema_version": 3,
     "solution": false,
     "task": false
    },
    "tags": []
   },
   "outputs": [],
   "source": [
    "# Komórka testowa\n",
    "assert type(r1p) == pd.DataFrame\n",
    "assert r1p.shape == (101, 1)\n",
    "assert list(r1p.columns) == [\"f(x)\"]\n",
    "assert r1p.index.name == 'x'\n",
    "assert np.isclose(r1p.index.min(), -2)\n",
    "assert np.isclose(r1p.index.max(), 2)\n",
    "assert np.isclose(r1p[\"f(x)\"].min(), 0.0)\n",
    "assert np.isclose(r1p[\"f(x)\"].max(), 0.75)\n",
    "assert np.isclose(r1p[\"f(x)\"].mean(), 0.24742574257425745)"
   ]
  },
  {
   "cell_type": "markdown",
   "id": "af5dee2e-3900-4f02-8b36-33fea6ccd033",
   "metadata": {
    "deletable": false,
    "editable": false,
    "nbgrader": {
     "cell_type": "markdown",
     "checksum": "30a5c35bb02c2228ffb1d90c38813263",
     "grade": false,
     "grade_id": "cell-3ab59f32751b0c7b",
     "locked": true,
     "schema_version": 3,
     "solution": false,
     "task": false
    },
    "tags": []
   },
   "source": [
    "#### b) Tablica wybranych wartości dystrybuanty\n",
    "\n",
    "Przygotuj dane niezbędne do przedstawienia dystrybuanty zmiennej losowej X w formie tablicy `r1f` o następującej strukturze:\n",
    "\n",
    "> Indeks:</br>\n",
    "> x - 101 wartości zmiennej losowej równo rozłożonych pomiędzy wartościami -2 a 2,  tak aby dwie wartości wypadały na granicach określonych we wzorze przedziałów. </br>\n",
    "\n",
    "> Kolumny: </br>\n",
    "> F(x) - wartości dystrybuanty wyliczone dla poszczególnych wartości x.\n",
    "\n",
    "Uwagi do wykonania zadania:\n",
    " - Warianty przyjmowane przez zmienną z wygeneruj za pomocą funkcji `numpy.linspace()` lub `numpy.arange()`.\n",
    " - Wartości dystrybuanty oblicz za pomocą funkcji `scipy.integrate.quad()`."
   ]
  },
  {
   "cell_type": "code",
   "execution_count": 10,
   "id": "28a8f1ba-ea21-4aab-9c3c-26bb1f23cddb",
   "metadata": {
    "deletable": false,
    "nbgrader": {
     "cell_type": "code",
     "checksum": "d0fbd14251026f549a633f6df9964368",
     "grade": false,
     "grade_id": "cell-6d6e536b2df352d5",
     "locked": false,
     "schema_version": 3,
     "solution": true,
     "task": false
    },
    "tags": []
   },
   "outputs": [
    {
     "data": {
      "text/html": [
       "<div>\n",
       "<style scoped>\n",
       "    .dataframe tbody tr th:only-of-type {\n",
       "        vertical-align: middle;\n",
       "    }\n",
       "\n",
       "    .dataframe tbody tr th {\n",
       "        vertical-align: top;\n",
       "    }\n",
       "\n",
       "    .dataframe thead th {\n",
       "        text-align: right;\n",
       "    }\n",
       "</style>\n",
       "<table border=\"1\" class=\"dataframe\">\n",
       "  <thead>\n",
       "    <tr style=\"text-align: right;\">\n",
       "      <th></th>\n",
       "      <th>F(x)</th>\n",
       "    </tr>\n",
       "    <tr>\n",
       "      <th>x</th>\n",
       "      <th></th>\n",
       "    </tr>\n",
       "  </thead>\n",
       "  <tbody>\n",
       "    <tr>\n",
       "      <th>-2.00</th>\n",
       "      <td>0.0</td>\n",
       "    </tr>\n",
       "    <tr>\n",
       "      <th>-1.96</th>\n",
       "      <td>0.0</td>\n",
       "    </tr>\n",
       "    <tr>\n",
       "      <th>-1.92</th>\n",
       "      <td>0.0</td>\n",
       "    </tr>\n",
       "    <tr>\n",
       "      <th>-1.88</th>\n",
       "      <td>0.0</td>\n",
       "    </tr>\n",
       "    <tr>\n",
       "      <th>-1.84</th>\n",
       "      <td>0.0</td>\n",
       "    </tr>\n",
       "    <tr>\n",
       "      <th>...</th>\n",
       "      <td>...</td>\n",
       "    </tr>\n",
       "    <tr>\n",
       "      <th>1.84</th>\n",
       "      <td>1.0</td>\n",
       "    </tr>\n",
       "    <tr>\n",
       "      <th>1.88</th>\n",
       "      <td>1.0</td>\n",
       "    </tr>\n",
       "    <tr>\n",
       "      <th>1.92</th>\n",
       "      <td>1.0</td>\n",
       "    </tr>\n",
       "    <tr>\n",
       "      <th>1.96</th>\n",
       "      <td>1.0</td>\n",
       "    </tr>\n",
       "    <tr>\n",
       "      <th>2.00</th>\n",
       "      <td>1.0</td>\n",
       "    </tr>\n",
       "  </tbody>\n",
       "</table>\n",
       "<p>101 rows × 1 columns</p>\n",
       "</div>"
      ],
      "text/plain": [
       "       F(x)\n",
       "x          \n",
       "-2.00   0.0\n",
       "-1.96   0.0\n",
       "-1.92   0.0\n",
       "-1.88   0.0\n",
       "-1.84   0.0\n",
       "...     ...\n",
       " 1.84   1.0\n",
       " 1.88   1.0\n",
       " 1.92   1.0\n",
       " 1.96   1.0\n",
       " 2.00   1.0\n",
       "\n",
       "[101 rows x 1 columns]"
      ]
     },
     "execution_count": 10,
     "metadata": {},
     "output_type": "execute_result"
    }
   ],
   "source": [
    "\n",
    "r_cdf=np.zeros_like(r_variants)\n",
    "cdf_values=[]\n",
    "for r_variant in r_variants[mask_1]:\n",
    "    cdf_value = sp.integrate.quad(lambda x: 0.75*(1-x**2), -1, r_variant)[0]\n",
    "    cdf_values.append(cdf_value)\n",
    "\n",
    "r_cdf[mask_1] = cdf_values\n",
    "mask_2=r_variants>1\n",
    "r_cdf[mask_2]=1\n",
    "r1f=pd.DataFrame(data=r_cdf,index=r_variants,columns=[\"F(x)\"])\n",
    "r1f.index.name='x'\n",
    "r1f"
   ]
  },
  {
   "cell_type": "code",
   "execution_count": 11,
   "id": "c83ec726-1a51-429d-bba3-04f99e0c10af",
   "metadata": {
    "deletable": false,
    "editable": false,
    "nbgrader": {
     "cell_type": "code",
     "checksum": "a2fc8d354d62edd1ab94b64a18f5628e",
     "grade": true,
     "grade_id": "cell-f5ef96e0af718a2e",
     "locked": true,
     "points": 2,
     "schema_version": 3,
     "solution": false,
     "task": false
    },
    "tags": []
   },
   "outputs": [],
   "source": [
    "# Komórka testowa\n",
    "assert type(r1f) == pd.DataFrame\n",
    "assert r1f.shape == (101, 1)\n",
    "assert list(r1f.columns) == [\"F(x)\"]\n",
    "assert r1f.index.name == 'x'\n",
    "assert np.isclose(r1f.index.min(), -2)\n",
    "assert np.isclose(r1f.index.max(), 2)\n",
    "assert np.isclose(r1f[\"F(x)\"].min(), 0.0)\n",
    "assert np.isclose(r1f[\"F(x)\"].max(), 1.0)\n",
    "assert np.isclose(r1f[\"F(x)\"].mean(), 0.5)"
   ]
  },
  {
   "cell_type": "markdown",
   "id": "d4ac8ed1-dc9d-426a-ad0a-bea59036fc43",
   "metadata": {
    "deletable": false,
    "editable": false,
    "nbgrader": {
     "cell_type": "markdown",
     "checksum": "7d1a3ae30e38937da1cae2a25cd3e434",
     "grade": false,
     "grade_id": "cell-fff84081c6d65bfd",
     "locked": true,
     "schema_version": 3,
     "solution": false,
     "task": false
    },
    "tags": []
   },
   "source": [
    "#### c) Wizualizacja funkcji gęstości prawdopodobieństwa i dystrybuanty\n",
    "Wykorzystaj funkcję `vizualize_continuous_distribution()` do przedstawienia rozkładu prawdopodobieństwa oraz dystrybuanty rozkładu zmiennej losowej X w formie wykresów."
   ]
  },
  {
   "cell_type": "code",
   "execution_count": 12,
   "id": "5fd5a1b9-ceaf-48eb-8388-7d3be6f5edd8",
   "metadata": {
    "deletable": false,
    "nbgrader": {
     "cell_type": "code",
     "checksum": "a28c3ca16f055a4b29a23a5d8f35617b",
     "grade": true,
     "grade_id": "cell-be8ee275fecd4171",
     "locked": false,
     "points": 1,
     "schema_version": 3,
     "solution": true,
     "task": false
    },
    "tags": []
   },
   "outputs": [
    {
     "data": {
      "image/png": "[encoded data removed]",
      "text/plain": [
       "<Figure size 1000x500 with 2 Axes>"
      ]
     },
     "metadata": {},
     "output_type": "display_data"
    }
   ],
   "source": [
    "vizualize_continuous_distribution(r1p, r1f)"
   ]
  },
  {
   "cell_type": "markdown",
   "id": "aeb07164-28c2-4104-a8b9-e03449e6f86a",
   "metadata": {
    "deletable": false,
    "editable": false,
    "nbgrader": {
     "cell_type": "markdown",
     "checksum": "df455fa89f09a4c0f522323f7081ba17",
     "grade": false,
     "grade_id": "cell-79bdb58759af826b",
     "locked": true,
     "schema_version": 3,
     "solution": false,
     "task": false
    },
    "tags": []
   },
   "source": [
    "#### d) Podstawowe parametry rozkładu\n",
    "\n",
    "Oblicz i zapisz do zmiennych następujące parametry rozkładu zmiennej losowej X - wartość średnia (`r1_mean`), wariancja(`r1_var`) i odchylenie standardowe (`r1_std`)."
   ]
  },
  {
   "cell_type": "code",
   "execution_count": 15,
   "id": "b1b581de-8732-4db4-ba5b-dce72ec4170c",
   "metadata": {
    "deletable": false,
    "nbgrader": {
     "cell_type": "code",
     "checksum": "b03218593feec83fccd306c374e6c030",
     "grade": false,
     "grade_id": "cell-92cd90185bb1294e",
     "locked": false,
     "schema_version": 3,
     "solution": true,
     "task": false
    },
    "tags": []
   },
   "outputs": [
    {
     "data": {
      "text/plain": [
       "<ufunc 'exp'>"
      ]
     },
     "execution_count": 15,
     "metadata": {},
     "output_type": "execute_result"
    }
   ],
   "source": [
    "d1 = -np.inf\n",
    "d2 = np.inf\n",
    "r1_mean = sp.integrate.quad(lambda x: x*0.75*(1-(x)**2),-1,1)[0]\n",
    "r1_mean\n",
    "e = r1_mean\n",
    "e = np.exp\n",
    "e"
   ]
  },
  {
   "cell_type": "code",
   "execution_count": 21,
   "id": "1b0a4cfa-6874-4658-8ab1-28aba8a5bb2c",
   "metadata": {
    "deletable": false,
    "nbgrader": {
     "cell_type": "code",
     "checksum": "7a6e32b2969b583811a6ab173ae6710e",
     "grade": false,
     "grade_id": "cell-4f26c0a8fc7528c0",
     "locked": false,
     "schema_version": 3,
     "solution": true,
     "task": false
    },
    "tags": []
   },
   "outputs": [
    {
     "data": {
      "text/plain": [
       "0.2"
      ]
     },
     "execution_count": 21,
     "metadata": {},
     "output_type": "execute_result"
    }
   ],
   "source": [
    "\n",
    "\n",
    "r1_var = sp.integrate.quad(lambda x: (x - r1_mean)**2 * 0.75 * (1 - x**2), -1, 1)[0]\n",
    "r1_var\n"
   ]
  },
  {
   "cell_type": "code",
   "execution_count": 25,
   "id": "bfdba0b9-b7ab-46ed-b4d2-17d1739d65ba",
   "metadata": {
    "deletable": false,
    "nbgrader": {
     "cell_type": "code",
     "checksum": "485c72104b887765c70f082811686430",
     "grade": false,
     "grade_id": "cell-bcb8dd2d877e7470",
     "locked": false,
     "schema_version": 3,
     "solution": true,
     "task": false
    },
    "tags": []
   },
   "outputs": [],
   "source": [
    "r1_std = np.sqrt(r1_var)"
   ]
  },
  {
   "cell_type": "code",
   "execution_count": 26,
   "id": "ecba3c4e-7629-4b40-a2a8-714f30c538fd",
   "metadata": {
    "deletable": false,
    "editable": false,
    "nbgrader": {
     "cell_type": "code",
     "checksum": "b07140fc2aeb1b27b65fa6e4b1461cd7",
     "grade": true,
     "grade_id": "cell-d73934266ccfc415",
     "locked": true,
     "points": 5,
     "schema_version": 3,
     "solution": false,
     "task": false
    },
    "tags": []
   },
   "outputs": [],
   "source": [
    "# Komórka testowa\n",
    "assert np.isclose(r1_mean, 0.0)\n",
    "assert np.isclose(r1_var, 0.2)\n",
    "assert np.isclose(r1_std, 0.4472135954999579)"
   ]
  },
  {
   "cell_type": "markdown",
   "id": "601fbe91-18ef-41b6-9ccd-14bd95d4e1e2",
   "metadata": {
    "deletable": false,
    "editable": false,
    "nbgrader": {
     "cell_type": "markdown",
     "checksum": "b0039e5477406417673aa15db736d938",
     "grade": false,
     "grade_id": "cell-f793dd80b2bf6c07",
     "locked": true,
     "schema_version": 3,
     "solution": false,
     "task": false
    },
    "tags": []
   },
   "source": [
    "### Zadanie 2: Rozkład normalny [10 pkt]\n",
    "\n",
    "Zmienna losowa Y ma rozkład normalny z wartością oczekiwaną $\\mu=5$ i odchyleniem standardowym $\\sigma=3.5$.\n",
    "\n",
    "#### a) Tablica wybranych wartości funkcji gęstości prawdopodobieństwa\n",
    "\n",
    "Przygotuj dane niezbędne do przedstawienia funkcji gęstości prawdopodobieństwa zmiennej losowej Y w formie tablicy `r2p` o następującej strukturze:\n",
    "\n",
    "> Indeks:</br>\n",
    "> y - 100 wartości zmiennej losowej równo rozłożonych pomiędzy wartościami, dla których dystrybuanta zmiennej losowej Y przyjmuje wartości 0.0001 i 0.9999</br>\n",
    "\n",
    "> Kolumny: </br>\n",
    "> f(y) - gęstość prawdopodobieństwa wyliczona dla poszczególnych wartości y.\n",
    "\n",
    "\n",
    "Uwagi do wykonania zadania:\n",
    " - Warianty przyjmowane przez zmienną z wygeneruj za pomocą funkcji `numpy.linspace()` lub `numpy.arange()`.\n",
    " - Wartości gęstości prawdopodobieństwa oblicz za pomocą odpowiedniej funkcji z modułu `scipy.stats.norm`."
   ]
  },
  {
   "cell_type": "code",
   "execution_count": 33,
   "id": "911f798a-6f6d-4e82-9d81-808eca1fd8da",
   "metadata": {
    "deletable": false,
    "nbgrader": {
     "cell_type": "code",
     "checksum": "e86eb1134568d9dd40ea6726af160eb2",
     "grade": false,
     "grade_id": "cell-fef0353657c6ff67",
     "locked": false,
     "schema_version": 3,
     "solution": true,
     "task": false
    },
    "tags": []
   },
   "outputs": [
    {
     "data": {
      "text/html": [
       "<div>\n",
       "<style scoped>\n",
       "    .dataframe tbody tr th:only-of-type {\n",
       "        vertical-align: middle;\n",
       "    }\n",
       "\n",
       "    .dataframe tbody tr th {\n",
       "        vertical-align: top;\n",
       "    }\n",
       "\n",
       "    .dataframe thead th {\n",
       "        text-align: right;\n",
       "    }\n",
       "</style>\n",
       "<table border=\"1\" class=\"dataframe\">\n",
       "  <thead>\n",
       "    <tr style=\"text-align: right;\">\n",
       "      <th></th>\n",
       "      <th>f(y)</th>\n",
       "    </tr>\n",
       "    <tr>\n",
       "      <th>y</th>\n",
       "      <th></th>\n",
       "    </tr>\n",
       "  </thead>\n",
       "  <tbody>\n",
       "    <tr>\n",
       "      <th>-8.016558</th>\n",
       "      <td>0.000113</td>\n",
       "    </tr>\n",
       "    <tr>\n",
       "      <th>-7.753597</th>\n",
       "      <td>0.000149</td>\n",
       "    </tr>\n",
       "    <tr>\n",
       "      <th>-7.490636</th>\n",
       "      <td>0.000196</td>\n",
       "    </tr>\n",
       "    <tr>\n",
       "      <th>-7.227675</th>\n",
       "      <td>0.000255</td>\n",
       "    </tr>\n",
       "    <tr>\n",
       "      <th>-6.964715</th>\n",
       "      <td>0.000331</td>\n",
       "    </tr>\n",
       "    <tr>\n",
       "      <th>...</th>\n",
       "      <td>...</td>\n",
       "    </tr>\n",
       "    <tr>\n",
       "      <th>16.964715</th>\n",
       "      <td>0.000331</td>\n",
       "    </tr>\n",
       "    <tr>\n",
       "      <th>17.227675</th>\n",
       "      <td>0.000255</td>\n",
       "    </tr>\n",
       "    <tr>\n",
       "      <th>17.490636</th>\n",
       "      <td>0.000196</td>\n",
       "    </tr>\n",
       "    <tr>\n",
       "      <th>17.753597</th>\n",
       "      <td>0.000149</td>\n",
       "    </tr>\n",
       "    <tr>\n",
       "      <th>18.016558</th>\n",
       "      <td>0.000113</td>\n",
       "    </tr>\n",
       "  </tbody>\n",
       "</table>\n",
       "<p>100 rows × 1 columns</p>\n",
       "</div>"
      ],
      "text/plain": [
       "                f(y)\n",
       "y                   \n",
       "-8.016558   0.000113\n",
       "-7.753597   0.000149\n",
       "-7.490636   0.000196\n",
       "-7.227675   0.000255\n",
       "-6.964715   0.000331\n",
       "...              ...\n",
       " 16.964715  0.000331\n",
       " 17.227675  0.000255\n",
       " 17.490636  0.000196\n",
       " 17.753597  0.000149\n",
       " 18.016558  0.000113\n",
       "\n",
       "[100 rows x 1 columns]"
      ]
     },
     "execution_count": 33,
     "metadata": {},
     "output_type": "execute_result"
    }
   ],
   "source": [
    "y_min = sp.stats.norm.ppf(0.0001, loc=5, scale=3.5)\n",
    "y_max =sp.stats.norm.ppf(0.9999, loc=5, scale=3.5)\n",
    "r2p = pd.DataFrame(index = np.linspace(y_min, y_max, 100))\n",
    "r2p[\"f(y)\"] = sp.stats.norm.pdf(r2p.index, loc=5, scale=3.5)\n",
    "#r2_pdf = sp.stats.norm.pdf(r2_variants, loc=5, scale=3.5)\n",
    "#r2p = pd.DataFrame(data=r2_pdf, index=r2_variants, columns=[\"f(y)\"])\n",
    "r2p.index.name = 'y'\n",
    "r2p"
   ]
  },
  {
   "cell_type": "code",
   "execution_count": 34,
   "id": "db298e3f-3103-4bbe-841a-76f730ef343d",
   "metadata": {
    "deletable": false,
    "editable": false,
    "nbgrader": {
     "cell_type": "code",
     "checksum": "fbaf964831a2ebf3ba6f2ada3926eeec",
     "grade": true,
     "grade_id": "cell-aae34e891f30a871",
     "locked": true,
     "points": 3,
     "schema_version": 3,
     "solution": false,
     "task": false
    },
    "tags": []
   },
   "outputs": [],
   "source": [
    "# Komórka testowa\n",
    "assert type(r2p) == pd.DataFrame\n",
    "assert r2p.shape == (100, 1)\n",
    "assert list(r2p.columns) == [\"f(y)\"]\n",
    "assert r2p.index.name == 'y'\n",
    "assert np.isclose(r2p.index.min(), -8.016557699094882)\n",
    "assert np.isclose(r2p.index.max(), 18.01655769909498)\n",
    "assert np.isclose(r2p[\"f(y)\"].min(), 0.00011309941907425523)\n",
    "assert np.isclose(r2p[\"f(y)\"].max(), 0.11390311079919879)\n",
    "assert np.isclose(r2p[\"f(y)\"].mean(), 0.03802196004604897)"
   ]
  },
  {
   "cell_type": "markdown",
   "id": "18d3ff95-2693-4a59-973c-b5de925a7685",
   "metadata": {
    "deletable": false,
    "editable": false,
    "nbgrader": {
     "cell_type": "markdown",
     "checksum": "329dbe3d038f446a1dd41e49c14d3397",
     "grade": false,
     "grade_id": "cell-4f92673dec1c6754",
     "locked": true,
     "schema_version": 3,
     "solution": false,
     "task": false
    },
    "tags": []
   },
   "source": [
    "#### b) Tablica wybranych wartości dystrybuanty\n",
    "\n",
    "Przygotuj dane niezbędne do przedstawienia funkcji gęstości prawdopodobieństwa oraz dystrybuanty zmiennej losowej Y w formie tablicy `r2f` o następującej strukturze:\n",
    "\n",
    "> Indeks:</br>\n",
    "> y - 100 wartości zmiennej losowej równo rozłożonych pomiędzy wartościami Y, dla których dystrybuanta zmiennej losowej Y przyjmuje wartości 0.0001 i 0.9999</br>\n",
    "\n",
    "> Kolumny: </br>\n",
    "> F(y) - wartości dystrybuanty wyliczone dla poszczególnych wartości y.\n",
    "\n",
    "\n",
    "Uwagi do wykonania zadania:\n",
    " - Warianty przyjmowane przez zmienną Y wygeneruj za pomocą funkcji `numpy.linspace()` lub `numpy.arange()`.\n",
    " - Wartości dystrybuanty oblicz za pomocą odpowiedniej funkcji z modułu `scipy.stats.norm`."
   ]
  },
  {
   "cell_type": "code",
   "execution_count": 55,
   "id": "bfc65b1b-40b3-4f4a-abde-86174e8a7979",
   "metadata": {
    "deletable": false,
    "nbgrader": {
     "cell_type": "code",
     "checksum": "e5cd7ad1ba22f696a7f53922cccbf23b",
     "grade": false,
     "grade_id": "cell-67e4191c6c4dca0f",
     "locked": false,
     "schema_version": 3,
     "solution": true,
     "task": false
    },
    "tags": []
   },
   "outputs": [
    {
     "data": {
      "text/html": [
       "<div>\n",
       "<style scoped>\n",
       "    .dataframe tbody tr th:only-of-type {\n",
       "        vertical-align: middle;\n",
       "    }\n",
       "\n",
       "    .dataframe tbody tr th {\n",
       "        vertical-align: top;\n",
       "    }\n",
       "\n",
       "    .dataframe thead th {\n",
       "        text-align: right;\n",
       "    }\n",
       "</style>\n",
       "<table border=\"1\" class=\"dataframe\">\n",
       "  <thead>\n",
       "    <tr style=\"text-align: right;\">\n",
       "      <th></th>\n",
       "      <th>F(y)</th>\n",
       "    </tr>\n",
       "    <tr>\n",
       "      <th>y</th>\n",
       "      <th></th>\n",
       "    </tr>\n",
       "  </thead>\n",
       "  <tbody>\n",
       "    <tr>\n",
       "      <th>-8.016558</th>\n",
       "      <td>0.000100</td>\n",
       "    </tr>\n",
       "    <tr>\n",
       "      <th>-7.753597</th>\n",
       "      <td>0.000134</td>\n",
       "    </tr>\n",
       "    <tr>\n",
       "      <th>-7.490636</th>\n",
       "      <td>0.000179</td>\n",
       "    </tr>\n",
       "    <tr>\n",
       "      <th>-7.227675</th>\n",
       "      <td>0.000238</td>\n",
       "    </tr>\n",
       "    <tr>\n",
       "      <th>-6.964715</th>\n",
       "      <td>0.000315</td>\n",
       "    </tr>\n",
       "    <tr>\n",
       "      <th>...</th>\n",
       "      <td>...</td>\n",
       "    </tr>\n",
       "    <tr>\n",
       "      <th>16.964715</th>\n",
       "      <td>0.999685</td>\n",
       "    </tr>\n",
       "    <tr>\n",
       "      <th>17.227675</th>\n",
       "      <td>0.999762</td>\n",
       "    </tr>\n",
       "    <tr>\n",
       "      <th>17.490636</th>\n",
       "      <td>0.999821</td>\n",
       "    </tr>\n",
       "    <tr>\n",
       "      <th>17.753597</th>\n",
       "      <td>0.999866</td>\n",
       "    </tr>\n",
       "    <tr>\n",
       "      <th>18.016558</th>\n",
       "      <td>0.999900</td>\n",
       "    </tr>\n",
       "  </tbody>\n",
       "</table>\n",
       "<p>100 rows × 1 columns</p>\n",
       "</div>"
      ],
      "text/plain": [
       "                F(y)\n",
       "y                   \n",
       "-8.016558   0.000100\n",
       "-7.753597   0.000134\n",
       "-7.490636   0.000179\n",
       "-7.227675   0.000238\n",
       "-6.964715   0.000315\n",
       "...              ...\n",
       " 16.964715  0.999685\n",
       " 17.227675  0.999762\n",
       " 17.490636  0.999821\n",
       " 17.753597  0.999866\n",
       " 18.016558  0.999900\n",
       "\n",
       "[100 rows x 1 columns]"
      ]
     },
     "execution_count": 55,
     "metadata": {},
     "output_type": "execute_result"
    }
   ],
   "source": [
    "# YOUR CODE HERE\n",
    "y_min=sp.stats.norm.ppf(0.0001,loc=5,scale=3.5)\n",
    "y_max=sp.stats.norm.ppf(0.9999,loc=5,scale=3.5)\n",
    "r2f=pd.DataFrame(index=np.linspace(y_min,y_max,100))\n",
    "r2f[\"F(y)\"]=sp.stats.norm.cdf(r2f.index,loc=5,scale=3.5)\n",
    "#r2_pdf=sp.stats.norm.pdf=(r2_variants,loc=5,scale=3.5)\n",
    "#\n",
    "r2f.index.name='y'\n",
    "r2f"
   ]
  },
  {
   "cell_type": "code",
   "execution_count": 56,
   "id": "b1406628-c89f-4a10-aa50-b45e744f7a5f",
   "metadata": {
    "deletable": false,
    "editable": false,
    "nbgrader": {
     "cell_type": "code",
     "checksum": "b697badf2ff0786e42119fb1871dac50",
     "grade": true,
     "grade_id": "cell-2ea0b0a81b04f2bd",
     "locked": true,
     "points": 3,
     "schema_version": 3,
     "solution": false,
     "task": false
    },
    "tags": []
   },
   "outputs": [],
   "source": [
    "# Komórka testowa\n",
    "assert type(r2f) == pd.DataFrame\n",
    "assert r2f.shape == (100, 1)\n",
    "assert list(r2f.columns) == [\"F(y)\"]\n",
    "assert r2f.index.name == 'y'\n",
    "assert np.isclose(r2f.index.min(), -8.016557699094882)\n",
    "assert np.isclose(r2f.index.max(), 18.01655769909498)\n",
    "assert np.isclose(r2f[\"F(y)\"].min(), 0.0001)\n",
    "assert np.isclose(r2f[\"F(y)\"].max(), 0.9999)\n",
    "assert np.isclose(r2f[\"F(y)\"].mean(), 0.5)"
   ]
  },
  {
   "cell_type": "markdown",
   "id": "be52948d-a841-498b-a96a-5aa6fc40add7",
   "metadata": {
    "deletable": false,
    "editable": false,
    "nbgrader": {
     "cell_type": "markdown",
     "checksum": "e532387ff1af337ddc2cbf590179817f",
     "grade": false,
     "grade_id": "cell-1249ca5640fbb392",
     "locked": true,
     "schema_version": 3,
     "solution": false,
     "task": false
    },
    "tags": []
   },
   "source": [
    "#### c) Wizualizacja funkcji gęstości prawdopodobieństwa i dystrybuanty\n",
    "Wykorzystaj funkcję `vizualize_continuous_distribution()` do przedstawienia rozkładu prawdopodobieństwa oraz dystrybuanty rozkładu zmiennej losowej Y w formie wykresów."
   ]
  },
  {
   "cell_type": "code",
   "execution_count": 57,
   "id": "159f9330-9ff3-4561-9433-8d4c5d330f94",
   "metadata": {
    "deletable": false,
    "nbgrader": {
     "cell_type": "code",
     "checksum": "cd733899405d7d6a7124ff6b907f09ec",
     "grade": true,
     "grade_id": "cell-3dc22544508bd329",
     "locked": false,
     "points": 1,
     "schema_version": 3,
     "solution": true,
     "task": false
    },
    "tags": []
   },
   "outputs": [
    {
     "data": {
      "image/png": "[encoded data removed]",
      "text/plain": [
       "<Figure size 1000x500 with 2 Axes>"
      ]
     },
     "metadata": {},
     "output_type": "display_data"
    }
   ],
   "source": [
    "vizualize_continuous_distribution(r2p,r2f)"
   ]
  },
  {
   "cell_type": "markdown",
   "id": "67b2fa27-20c0-483c-ae67-5054d3085144",
   "metadata": {
    "deletable": false,
    "editable": false,
    "nbgrader": {
     "cell_type": "markdown",
     "checksum": "c5f058305815bac6baa6c5a0ff45aa53",
     "grade": false,
     "grade_id": "cell-c62f7e26d403085f",
     "locked": true,
     "schema_version": 3,
     "solution": false,
     "task": false
    },
    "tags": []
   },
   "source": [
    "#### d) Podstawowe parametry rozkładu\n",
    "\n",
    "Oblicz i zapisz do zmiennych następujące parametry rozkładu zmiennej losowej Y - wartość średnia (`r2_mean`), wariancja(`r2_var`) i odchylenie standardowe (`r2_std`).\n",
    "\n",
    "Uwagi do wykonania zadania:\n",
    " - Wartości parametrów oblicz za pomocą odpowiedniej funkcji z modułu `scipy.stats.norm`."
   ]
  },
  {
   "cell_type": "code",
   "execution_count": 62,
   "id": "1fbac861-f656-41a3-8a02-5d80aecc147e",
   "metadata": {
    "deletable": false,
    "nbgrader": {
     "cell_type": "code",
     "checksum": "277801fa4a706ec3ecb865790167a0a2",
     "grade": false,
     "grade_id": "cell-e27ded4e2ef48f81",
     "locked": false,
     "schema_version": 3,
     "solution": true,
     "task": false
    },
    "tags": []
   },
   "outputs": [],
   "source": [
    "r2_mean = sp.stats.norm.mean(loc=5, scale=3.5)"
   ]
  },
  {
   "cell_type": "code",
   "execution_count": 68,
   "id": "d7a22ec2-b4a8-45a2-8aa1-41f84d0e1c4e",
   "metadata": {
    "deletable": false,
    "nbgrader": {
     "cell_type": "code",
     "checksum": "7debfbf38cd95df4bbcd6d854e7db710",
     "grade": false,
     "grade_id": "cell-a3ddf2ff0ea42a6a",
     "locked": false,
     "schema_version": 3,
     "solution": true,
     "task": false
    },
    "tags": []
   },
   "outputs": [],
   "source": [
    "r2_var = sp.stats.norm.var(loc=5, scale=3.5)\n"
   ]
  },
  {
   "cell_type": "code",
   "execution_count": 17,
   "id": "160e43d4-49f3-47e0-af9e-59c1fecc6143",
   "metadata": {
    "deletable": false,
    "nbgrader": {
     "cell_type": "code",
     "checksum": "7152806360fb545f51c5391099c36b84",
     "grade": false,
     "grade_id": "cell-c9027c5caa419b87",
     "locked": false,
     "schema_version": 3,
     "solution": true,
     "task": false
    },
    "tags": []
   },
   "outputs": [
    {
     "data": {
      "text/plain": [
       "0.4346437380743956"
      ]
     },
     "execution_count": 17,
     "metadata": {},
     "output_type": "execute_result"
    }
   ],
   "source": [
    "r2_std = sp.stats.norm.std(loc=5, scale=3.5)\n",
    "\n",
    "mean = 164\n",
    "\n",
    "# Odchylenie standardowe rozkładu normalnego\n",
    "std_dev = 5\n",
    "\n",
    "# Obliczenie prawdopodobieństwa dla wzrostu nie więcej niż 153 cm\n",
    "p_153 = sp.stats.norm.cdf(153, mean,std_dev)\n",
    "\n",
    "# Obliczenie prawdopodobieństwa dla wzrostu nie mniej niż 165 cm\n",
    "p_165 = 1 - sp.stats.norm.cdf(165, mean, std_dev)\n",
    "\n",
    "# Sumowanie prawdopodobieństw\n",
    "p = p_153 + p_165\n",
    "p"
   ]
  },
  {
   "cell_type": "code",
   "execution_count": 71,
   "id": "9372f434-d4d8-4292-9df0-7ab0d6eddfa5",
   "metadata": {
    "deletable": false,
    "editable": false,
    "nbgrader": {
     "cell_type": "code",
     "checksum": "414856f4a086b7699d657a31880ffb62",
     "grade": true,
     "grade_id": "cell-ced38983179c1067",
     "locked": true,
     "points": 3,
     "schema_version": 3,
     "solution": false,
     "task": false
    },
    "tags": []
   },
   "outputs": [],
   "source": [
    "# Komórka testowa\n",
    "assert np.isclose(r2_mean, 5.0)\n",
    "assert np.isclose(r2_var, 12.25)\n",
    "assert np.isclose(r2_std, 3.5)"
   ]
  },
  {
   "cell_type": "markdown",
   "id": "b625ae3b-b45f-4799-9a59-2f79f3b736d6",
   "metadata": {
    "deletable": false,
    "editable": false,
    "nbgrader": {
     "cell_type": "markdown",
     "checksum": "8ead1125c223ec80737938ab00614992",
     "grade": false,
     "grade_id": "cell-2e1c20e7bf546fc8",
     "locked": true,
     "schema_version": 3,
     "solution": false,
     "task": false
    },
    "tags": []
   },
   "source": [
    "### Zadanie 3: Rozkład gamma [10 pkt]\n",
    "Zmienna losowa Z ma rozkład gamma z parametram $k=4$ i parametrem $\\theta=2$.\n",
    "\n",
    "#### a) Tablica wybranych wartości funkcji gęstości prawdopodobieństwa\n",
    "\n",
    "Przygotuj dane niezbędne do przedstawienia funkcji gęstości prawdopodobieństwa zmiennej losowej Z w formie tablicy `r3p` o następującej strukturze:\n",
    "\n",
    "> Indeks:</br>\n",
    "> z - 100 wartości zmiennej losowej równo rozłożonych od 0 do wartości z, dla której dystrybuanta zmiennej losowej Z przyjmuje wartość 0.9999.</br>\n",
    "\n",
    "> Kolumny: </br>\n",
    "> f(z) - gęstość prawdopodobieństwa wyliczona dla poszczególnych wartości z. </br>\n",
    "\n",
    "Uwagi do wykonania zadania:\n",
    " - Warianty przyjmowane przez zmienną z wygeneruj za pomocą funkcji `numpy.linspace()` lub `numpy.arange()`.\n",
    " - Wartości gęstości prawdopodobieństwa oblicz za pomocą odpowiedniej funkcji z modułu `scipy.stats.gamma`."
   ]
  },
  {
   "cell_type": "code",
   "execution_count": 86,
   "id": "6444311c-8bcf-4f37-8250-2f7ed5d9bb3f",
   "metadata": {
    "deletable": false,
    "nbgrader": {
     "cell_type": "code",
     "checksum": "5726648071a3d877264085516e5869e1",
     "grade": false,
     "grade_id": "cell-569cd0a4a96cc523",
     "locked": false,
     "schema_version": 3,
     "solution": true,
     "task": false
    },
    "tags": []
   },
   "outputs": [],
   "source": [
    "k = 4\n",
    "theta = 2\n",
    "\n",
    "# Generujemy 100 równo rozmieszczonych wartości dla z pomiędzy 0 a wartością, dla której dystrybuanta Z przyjmuje wartość 0.9999\n",
    "z_values = np.linspace(0, sp.stats.gamma.ppf(0.9999, k, scale=theta), 100)\n",
    "\n",
    "# Obliczamy wartości funkcji gęstości prawdopodobieństwa dla z\n",
    "r3_pdf = sp.stats.gamma.pdf(z_values, k, scale=theta)\n",
    "\n",
    "# Tworzymy DataFrame do przechowywania wyników\n",
    "r3p = pd.DataFrame(data=r3_pdf, index=z_values, columns=[\"f(z)\"])\n",
    "r3p.index.name = 'z'\n"
   ]
  },
  {
   "cell_type": "code",
   "execution_count": 87,
   "id": "c7305da0-46b8-4bab-8d65-5254b5045fa6",
   "metadata": {
    "deletable": false,
    "editable": false,
    "nbgrader": {
     "cell_type": "code",
     "checksum": "a5b692f53b7b14588bad6631b5ba6362",
     "grade": true,
     "grade_id": "cell-345298e7155dbe64",
     "locked": true,
     "points": 3,
     "schema_version": 3,
     "solution": false,
     "task": false
    },
    "tags": []
   },
   "outputs": [],
   "source": [
    "# Komórka testowa\n",
    "assert type(r3p) == pd.DataFrame\n",
    "assert r3p.shape == (100, 1)\n",
    "assert list(r3p.columns) == [\"f(z)\"]\n",
    "assert r3p.index.name == 'z'\n",
    "assert np.isclose(r3p.index.min(), 0.0)\n",
    "assert np.isclose(r3p.index.max(), 31.827628001262585)\n",
    "assert np.isclose(r3p[\"f(z)\"].min(), 0.0)\n",
    "assert np.isclose(r3p[\"f(z)\"].max(), 0.11196678941579825)\n",
    "assert np.isclose(r3p[\"f(z)\"].mean(), 0.031102170912604324)"
   ]
  },
  {
   "cell_type": "markdown",
   "id": "3138574d-aa94-47b3-a5cc-5e0f6e7586df",
   "metadata": {
    "deletable": false,
    "editable": false,
    "nbgrader": {
     "cell_type": "markdown",
     "checksum": "9a9d1a070d7a142ab10a4631b01b6b26",
     "grade": false,
     "grade_id": "cell-f744e63d73396b1f",
     "locked": true,
     "schema_version": 3,
     "solution": false,
     "task": false
    },
    "tags": []
   },
   "source": [
    "#### b) Tablica wybranych wartości dystrybuanty\n",
    "\n",
    "Przygotuj dane niezbędne do przedstawienia dystrybuanty zmiennej losowej Z w formie tablicy `r3f` o następującej strukturze:\n",
    "\n",
    "> Indeks:</br>\n",
    "> z - 100 wartości zmiennej losowej równo rozłożonych od 0 do wartości z, dla której dystrybuanta zmiennej losowej Z przyjmuje wartość 0.9999.</br>\n",
    "\n",
    "> Kolumny: </br>\n",
    "> F(z) - wartości dystrybuanty wyliczone dla poszczególnych wartości z.\n",
    "\n",
    "Uwagi do wykonania zadania:\n",
    " - Warianty przyjmowane przez zmienną Y wygeneruj za pomocą funkcji `numpy.linspace()` lub `numpy.arange()`.\n",
    " - Wartości dystrybuanty oblicz za pomocą odpowiedniej funkcji z modułu `scipy.stats.gamma`."
   ]
  },
  {
   "cell_type": "code",
   "execution_count": 107,
   "id": "a92e01eb-214f-49b9-878b-788e90195004",
   "metadata": {
    "deletable": false,
    "nbgrader": {
     "cell_type": "code",
     "checksum": "b785e4c3b67679d5c2c54893a874c707",
     "grade": false,
     "grade_id": "cell-564615e4223c86a5",
     "locked": false,
     "schema_version": 3,
     "solution": true,
     "task": false
    },
    "tags": []
   },
   "outputs": [
    {
     "data": {
      "text/html": [
       "<div>\n",
       "<style scoped>\n",
       "    .dataframe tbody tr th:only-of-type {\n",
       "        vertical-align: middle;\n",
       "    }\n",
       "\n",
       "    .dataframe tbody tr th {\n",
       "        vertical-align: top;\n",
       "    }\n",
       "\n",
       "    .dataframe thead th {\n",
       "        text-align: right;\n",
       "    }\n",
       "</style>\n",
       "<table border=\"1\" class=\"dataframe\">\n",
       "  <thead>\n",
       "    <tr style=\"text-align: right;\">\n",
       "      <th></th>\n",
       "      <th>F(z)</th>\n",
       "    </tr>\n",
       "    <tr>\n",
       "      <th>z</th>\n",
       "      <th></th>\n",
       "    </tr>\n",
       "  </thead>\n",
       "  <tbody>\n",
       "    <tr>\n",
       "      <th>0.000000</th>\n",
       "      <td>0.000000</td>\n",
       "    </tr>\n",
       "    <tr>\n",
       "      <th>0.321491</th>\n",
       "      <td>0.000024</td>\n",
       "    </tr>\n",
       "    <tr>\n",
       "      <th>0.642982</th>\n",
       "      <td>0.000345</td>\n",
       "    </tr>\n",
       "    <tr>\n",
       "      <th>0.964474</th>\n",
       "      <td>0.001537</td>\n",
       "    </tr>\n",
       "    <tr>\n",
       "      <th>1.285965</th>\n",
       "      <td>0.004282</td>\n",
       "    </tr>\n",
       "    <tr>\n",
       "      <th>...</th>\n",
       "      <td>...</td>\n",
       "    </tr>\n",
       "    <tr>\n",
       "      <th>30.541663</th>\n",
       "      <td>0.999831</td>\n",
       "    </tr>\n",
       "    <tr>\n",
       "      <th>30.863154</th>\n",
       "      <td>0.999851</td>\n",
       "    </tr>\n",
       "    <tr>\n",
       "      <th>31.184646</th>\n",
       "      <td>0.999870</td>\n",
       "    </tr>\n",
       "    <tr>\n",
       "      <th>31.506137</th>\n",
       "      <td>0.999886</td>\n",
       "    </tr>\n",
       "    <tr>\n",
       "      <th>31.827628</th>\n",
       "      <td>0.999900</td>\n",
       "    </tr>\n",
       "  </tbody>\n",
       "</table>\n",
       "<p>100 rows × 1 columns</p>\n",
       "</div>"
      ],
      "text/plain": [
       "               F(z)\n",
       "z                  \n",
       "0.000000   0.000000\n",
       "0.321491   0.000024\n",
       "0.642982   0.000345\n",
       "0.964474   0.001537\n",
       "1.285965   0.004282\n",
       "...             ...\n",
       "30.541663  0.999831\n",
       "30.863154  0.999851\n",
       "31.184646  0.999870\n",
       "31.506137  0.999886\n",
       "31.827628  0.999900\n",
       "\n",
       "[100 rows x 1 columns]"
      ]
     },
     "execution_count": 107,
     "metadata": {},
     "output_type": "execute_result"
    }
   ],
   "source": [
    "k = 4\n",
    "theta = 2\n",
    "r3_cdf = sp.stats.gamma.cdf(z_values, k, scale=theta)\n",
    "r3f = pd.DataFrame(data=r3_cdf, index=z_values, columns=[\"F(z)\"])\n",
    "r3f.index.name = 'z'\n",
    "r3f\n"
   ]
  },
  {
   "cell_type": "code",
   "execution_count": 108,
   "id": "bae1ad20-323c-4fc3-be16-ef9706213190",
   "metadata": {
    "deletable": false,
    "editable": false,
    "nbgrader": {
     "cell_type": "code",
     "checksum": "8565abe4f6473762fdfb8a18431f21a9",
     "grade": true,
     "grade_id": "cell-0ebfec21daf353ce",
     "locked": true,
     "points": 3,
     "schema_version": 3,
     "solution": false,
     "task": false
    },
    "tags": []
   },
   "outputs": [],
   "source": [
    "# Komórka testowa\n",
    "assert type(r3f) == pd.DataFrame\n",
    "assert r3f.shape == (100, 1)\n",
    "assert list(r3f.columns) == [\"F(z)\"]\n",
    "assert r3f.index.name == 'z'\n",
    "assert np.isclose(r3f.index.min(), 0.0)\n",
    "assert np.isclose(r3f.index.max(), 31.827628001262585)\n",
    "assert np.isclose(r3f[\"F(z)\"].min(), 0.0)\n",
    "assert np.isclose(r3f[\"F(z)\"].max(), 0.9999)\n",
    "assert np.isclose(r3f[\"F(z)\"].mean(), 0.7461665542590229)"
   ]
  },
  {
   "cell_type": "markdown",
   "id": "71043531-d98e-46b8-88d2-febef7c762b4",
   "metadata": {
    "deletable": false,
    "editable": false,
    "nbgrader": {
     "cell_type": "markdown",
     "checksum": "4b5578331ae272d3df00ef05405477a1",
     "grade": false,
     "grade_id": "cell-cdea63e533e1fec3",
     "locked": true,
     "schema_version": 3,
     "solution": false,
     "task": false
    },
    "tags": []
   },
   "source": [
    "#### c) Wizualizacja funkcji gęstości prawdopodobieństwa i dystrybuanty\n",
    "Wykorzystaj funkcję `vizualize_continuous_distribution()` do przedstawienia rozkładu prawdopodobieństwa oraz dystrybuanty rozkładu zmiennej losowej Z w formie wykresów."
   ]
  },
  {
   "cell_type": "code",
   "execution_count": 109,
   "id": "d0a9c469-1584-4f1b-86ed-333efddceaa5",
   "metadata": {
    "deletable": false,
    "nbgrader": {
     "cell_type": "code",
     "checksum": "caf84f0ebfbbc8e6d2e7dd80ecb4f966",
     "grade": true,
     "grade_id": "cell-dd806296fa930e42",
     "locked": false,
     "points": 1,
     "schema_version": 3,
     "solution": true,
     "task": false
    },
    "tags": []
   },
   "outputs": [
    {
     "data": {
      "image/png": "[encoded data removed]",
      "text/plain": [
       "<Figure size 1000x500 with 2 Axes>"
      ]
     },
     "metadata": {},
     "output_type": "display_data"
    }
   ],
   "source": [
    "vizualize_continuous_distribution(r3p,r3f)"
   ]
  },
  {
   "cell_type": "markdown",
   "id": "ad9844ac-5c08-48cd-af3d-a798942137f5",
   "metadata": {
    "deletable": false,
    "editable": false,
    "nbgrader": {
     "cell_type": "markdown",
     "checksum": "ee6f874f247c3c55b5c0ff33ce3d29df",
     "grade": false,
     "grade_id": "cell-42c5fe98e78c6ab2",
     "locked": true,
     "schema_version": 3,
     "solution": false,
     "task": false
    },
    "tags": []
   },
   "source": [
    "#### d) Podstawowe parametry rozkładu\n",
    "\n",
    "Oblicz i zapisz do zmiennych następujące parametry rozkładu zmiennej losowej Z - wartość średnia (`r3_mean`), wariancja(`r3_var`) i odchylenie standardowe (`r3_std`).\n",
    "\n",
    "Uwagi do wykonania zadania:\n",
    " - Wartości parametrów oblicz za pomocą odpowiedniej funkcji z modułu `scipy.stats.gamma`."
   ]
  },
  {
   "cell_type": "code",
   "execution_count": 119,
   "id": "6516b423-e991-42bf-abdb-5b6d29ae5097",
   "metadata": {
    "deletable": false,
    "nbgrader": {
     "cell_type": "code",
     "checksum": "7c61211ddeda3ecb28e0045a5386e101",
     "grade": false,
     "grade_id": "cell-6f7b223a4f1ec575",
     "locked": false,
     "schema_version": 3,
     "solution": true,
     "task": false
    },
    "tags": []
   },
   "outputs": [
    {
     "data": {
      "text/plain": [
       "8.0"
      ]
     },
     "execution_count": 119,
     "metadata": {},
     "output_type": "execute_result"
    }
   ],
   "source": [
    "r3_mean = sp.stats.gamma.mean(a=4, scale=2)\n",
    "r3_mean"
   ]
  },
  {
   "cell_type": "code",
   "execution_count": 13,
   "id": "f5939312-0477-4f6d-86b7-185d65f48e46",
   "metadata": {
    "deletable": false,
    "nbgrader": {
     "cell_type": "code",
     "checksum": "6b1a8cf622ce58faf73685de9fff3efe",
     "grade": false,
     "grade_id": "cell-0f78954428f22a7d",
     "locked": false,
     "schema_version": 3,
     "solution": true,
     "task": false
    },
    "tags": []
   },
   "outputs": [
    {
     "data": {
      "text/plain": [
       "0.13217041435499474"
      ]
     },
     "execution_count": 13,
     "metadata": {},
     "output_type": "execute_result"
    }
   ],
   "source": [
    "r3_var = sp.stats.gamma.var(a=4, scale=2)\n",
    "from scipy.stats import poisson\n",
    "k = 10\n",
    "scale = 4\n",
    "# Średni czas pomiędzy kolejnymi awariami (wartość oczekiwana)\n",
    "cdf_55 = sp.stats.gamma.cdf(55, k, scale=scale)\n",
    "\n",
    "# Obliczenie dystrybuanty dla 45 godzin\n",
    "cdf_45 = sp.stats.gamma.cdf(45, k, scale=scale)\n",
    "\n",
    "# Obliczenie prawdopodobieństwa\n",
    "p_between = sp.stats.gamma.cdf(24,a = 3, scale=12) - sp.stats.gamma.cdf(18,a = 3, scale=12) \n",
    "p_between"
   ]
  },
  {
   "cell_type": "code",
   "execution_count": 121,
   "id": "d26f777f-ad91-4ede-9ef9-d8b4027c2bc4",
   "metadata": {
    "deletable": false,
    "nbgrader": {
     "cell_type": "code",
     "checksum": "5ec229cacce5b08aa5d2f13ddf9e5dda",
     "grade": false,
     "grade_id": "cell-e6f70c1fdba8fbb6",
     "locked": false,
     "schema_version": 3,
     "solution": true,
     "task": false
    },
    "tags": []
   },
   "outputs": [],
   "source": [
    "\n",
    "r3_std = sp.stats.gamma.std(a=4, scale=2)"
   ]
  },
  {
   "cell_type": "code",
   "execution_count": 122,
   "id": "4e3952f4-9c28-46f0-bd9c-f5b51f62ef33",
   "metadata": {
    "deletable": false,
    "editable": false,
    "nbgrader": {
     "cell_type": "code",
     "checksum": "9c611df98c715af94a06ecd6100635f4",
     "grade": true,
     "grade_id": "cell-a25664440a360f64",
     "locked": true,
     "points": 3,
     "schema_version": 3,
     "solution": false,
     "task": false
    },
    "tags": []
   },
   "outputs": [],
   "source": [
    "# Komórka testowa\n",
    "assert np.isclose(r3_mean, 8.0)\n",
    "assert np.isclose(r3_var, 16.0)\n",
    "assert np.isclose(r3_std, 4.0)"
   ]
  },
  {
   "cell_type": "markdown",
   "id": "8424358d-0c6b-41cb-82d8-85d5fe0be50f",
   "metadata": {
    "deletable": false,
    "editable": false,
    "nbgrader": {
     "cell_type": "markdown",
     "checksum": "dbf58b3583608fc0e309078b4f6d5e47",
     "grade": false,
     "grade_id": "cell-43a088f3d56b501a",
     "locked": true,
     "schema_version": 3,
     "solution": false,
     "task": false
    },
    "tags": []
   },
   "source": [
    "### Zadanie 4: Wyliczanie i wizualizacja prawdopodobieństw [6 pkt]\n",
    "\n",
    "Oblicz i przedstaw na wykresach następujące prawdopodobieństwa:\n",
    "- P(X>-0.5)\n",
    "- P(1<Y<8)\n",
    "- P(Z<2 | Z>12)\n",
    "\n",
    "Wyniki zapisz kolejno do zmiennych `p1`, `p2` i `p3` oraz przedstaw na wykresach korzystając z funkcji `vizualize_continuous_distribution()`.\n",
    "\n",
    "#### a) P(X>-0.5)"
   ]
  },
  {
   "cell_type": "code",
   "execution_count": 138,
   "id": "1fb043d1-8fd9-418a-b7b8-8c42ae71d310",
   "metadata": {
    "deletable": false,
    "nbgrader": {
     "cell_type": "code",
     "checksum": "54eb80d19f2df38064b5292b36dc7380",
     "grade": false,
     "grade_id": "cell-d83ae2882074819a",
     "locked": false,
     "schema_version": 3,
     "solution": true,
     "task": false
    },
    "tags": []
   },
   "outputs": [
    {
     "data": {
      "image/png": "[encoded data removed]",
      "text/plain": [
       "<Figure size 1000x500 with 2 Axes>"
      ]
     },
     "metadata": {},
     "output_type": "display_data"
    }
   ],
   "source": [
    "p1 = sp.integrate.quad(lambda x: 0.75*(1 -x**2), -0.5, 1)[0]\n",
    "p1\n",
    "mask_1 = np.all([-0.5 < r1p.index], axis=0)\n",
    "vizualize_continuous_distribution(r1p, r1f, [-0.5, np.inf, \"inner\"])"
   ]
  },
  {
   "cell_type": "code",
   "execution_count": 139,
   "id": "812237eb-570d-468b-97a5-d0a724b7685a",
   "metadata": {
    "deletable": false,
    "editable": false,
    "nbgrader": {
     "cell_type": "code",
     "checksum": "5ff9789c8f3235fd01f517df9114b026",
     "grade": true,
     "grade_id": "cell-d15d12889de658af",
     "locked": true,
     "points": 2,
     "schema_version": 3,
     "solution": false,
     "task": false
    },
    "tags": []
   },
   "outputs": [],
   "source": [
    "# Komórka testowa\n",
    "assert np.isclose(p1, 0.84375)"
   ]
  },
  {
   "cell_type": "markdown",
   "id": "1a5cf89f-3a45-4eac-add5-e3b9e129a422",
   "metadata": {
    "deletable": false,
    "editable": false,
    "nbgrader": {
     "cell_type": "markdown",
     "checksum": "eaaaec9f629c36475695314c9ad12e29",
     "grade": false,
     "grade_id": "cell-35528098c02a457b",
     "locked": true,
     "schema_version": 3,
     "solution": false,
     "task": false
    },
    "tags": []
   },
   "source": [
    "#### b) P(1<Y<8)"
   ]
  },
  {
   "cell_type": "code",
   "execution_count": 140,
   "id": "755dc56a-c482-4a5e-82ea-6e5e43fe930f",
   "metadata": {
    "deletable": false,
    "nbgrader": {
     "cell_type": "code",
     "checksum": "f76d7bd0a0983b861bd458ad68381e2d",
     "grade": false,
     "grade_id": "cell-241661cf0a3e5369",
     "locked": false,
     "schema_version": 3,
     "solution": true,
     "task": false
    },
    "tags": []
   },
   "outputs": [
    {
     "name": "stdout",
     "output_type": "stream",
     "text": [
      "f(Z)    0.0\n",
      "dtype: float64\n"
     ]
    },
    {
     "data": {
      "image/png": "[encoded data removed]",
      "text/plain": [
       "<Figure size 1000x500 with 2 Axes>"
      ]
     },
     "metadata": {},
     "output_type": "display_data"
    }
   ],
   "source": [
    "p2 = sp.integrate.quad(lambda x: 0.75*(1 -x**2), -0.5, 1)[0]\n",
    "p2\n",
    "mask_2 = np.all([-0.5 < r1p.index], axis=0)\n",
    "vizualize_continuous_distribution(r2p, r2f, [-0.5, np.inf, \"inner\"])"
   ]
  },
  {
   "cell_type": "code",
   "execution_count": 141,
   "id": "b4be493e-d64a-4a86-997a-b5aa50877bb0",
   "metadata": {
    "deletable": false,
    "editable": false,
    "nbgrader": {
     "cell_type": "code",
     "checksum": "c07f4583aa64dc06d4a11b5b03512c35",
     "grade": true,
     "grade_id": "cell-90a814e79dcf7ad1",
     "locked": true,
     "points": 2,
     "schema_version": 3,
     "solution": false,
     "task": false
    },
    "tags": []
   },
   "outputs": [
    {
     "ename": "AssertionError",
     "evalue": "",
     "output_type": "error",
     "traceback": [
      "\u001b[1;31m---------------------------------------------------------------------------\u001b[0m",
      "\u001b[1;31mAssertionError\u001b[0m                            Traceback (most recent call last)",
      "Cell \u001b[1;32mIn[141], line 2\u001b[0m\n\u001b[0;32m      1\u001b[0m \u001b[38;5;66;03m# Komórka testowa\u001b[39;00m\n\u001b[1;32m----> 2\u001b[0m \u001b[38;5;28;01massert\u001b[39;00m np\u001b[38;5;241m.\u001b[39misclose(p2, \u001b[38;5;241m0.6777680763726662\u001b[39m)\n",
      "\u001b[1;31mAssertionError\u001b[0m: "
     ]
    }
   ],
   "source": [
    "# Komórka testowa\n",
    "assert np.isclose(p2, 0.6777680763726662)"
   ]
  },
  {
   "cell_type": "markdown",
   "id": "48dfe588-bc20-4e04-89d1-3fb68592c78b",
   "metadata": {
    "deletable": false,
    "editable": false,
    "nbgrader": {
     "cell_type": "markdown",
     "checksum": "2f9e3fc748033bb0ca22da51a3e0d282",
     "grade": false,
     "grade_id": "cell-3daa6cddc882f152",
     "locked": true,
     "schema_version": 3,
     "solution": false,
     "task": false
    },
    "tags": []
   },
   "source": [
    "#### c) P(Z<2 | Z>12)"
   ]
  },
  {
   "cell_type": "code",
   "execution_count": null,
   "id": "a6e03d88-1282-4f11-bb66-dc799878b3ab",
   "metadata": {
    "deletable": false,
    "nbgrader": {
     "cell_type": "code",
     "checksum": "142a7ac8ba48c4bffa5e3d22df953eb0",
     "grade": false,
     "grade_id": "cell-9069cc83e52cffd0",
     "locked": false,
     "schema_version": 3,
     "solution": true,
     "task": false
    },
    "tags": []
   },
   "outputs": [],
   "source": [
    "\n",
    "# r_3_f = r3f[(r3f.index.left <= 12) | (r3f.index.right > 21)]\n",
    "\n",
    "mask_3 = np.all([r3p.index > 12.0, r3p.index <= 21.0], axis=0)\n",
    "\n",
    "p3 = 1 - np.sum(r3p[(r3p.index > 12) & (r3p.index <= 21)])\n",
    "print(p3)\n",
    "vizualize_continuous_distribution(r3p, r3f, mask_3)"
   ]
  },
  {
   "cell_type": "code",
   "execution_count": null,
   "id": "b70e1f86-222f-445c-89c5-47421ac51855",
   "metadata": {
    "deletable": false,
    "editable": false,
    "nbgrader": {
     "cell_type": "code",
     "checksum": "f5b5d7355e7e377cd5a8b6b8255a5bd3",
     "grade": true,
     "grade_id": "cell-1e1be63339d333a8",
     "locked": true,
     "points": 2,
     "schema_version": 3,
     "solution": false,
     "task": false
    },
    "tags": []
   },
   "outputs": [],
   "source": [
    "# Komórka testowa\n",
    "assert np.isclose(p3, 0.17019203965280166)"
   ]
  }
 ],
 "metadata": {
  "kernelspec": {
   "display_name": "Python 3 (ipykernel)",
   "language": "python",
   "name": "python3"
  },
  "language_info": {
   "codemirror_mode": {
    "name": "ipython",
    "version": 3
   },
   "file_extension": ".py",
   "mimetype": "text/x-python",
   "name": "python",
   "nbconvert_exporter": "python",
   "pygments_lexer": "ipython3",
   "version": "3.11.8"
  }
 },
 "nbformat": 4,
 "nbformat_minor": 5
}
